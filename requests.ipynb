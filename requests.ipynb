{
 "cells": [
  {
   "cell_type": "code",
   "execution_count": null,
   "id": "a2364c87",
   "metadata": {},
   "outputs": [],
   "source": [
    "import requests\n",
    "from bs4 import BeautifulSoup\n",
    "from time import sleep\n",
    "url=\"https://www.tarnote.com/blog/%E4%BD%A0%E8%A9%B2%E7%9F%A5%E9%81%93%E7%9A%8478%E5%BC%B5%E5%A1%94%E7%BE%85%E7%89%8C%E7%BE%A9%E8%88%87%E5%A1%94%E7%BE%85%E5%8D%A0%E5%8D%9C%E7%9F%A5%E8%AD%98%E5%A4%A7%E5%85%A8%E6%8C%81%E7%BA%8C%E6%9B%B4%E6%96%B0%E4%B8%AD\"\n",
    "res=requests.get(url)\n",
    "soup=BeautifulSoup(res.text)\n",
    "# print(soup.prettify())\n",
    "\n",
    "for card in soup.find_all(\"p\",style=\"text-align:center\"):\n",
    "    try:\n",
    "        a1=card.a[\"href\"]\n",
    "        print(a1)\n",
    "        a2=card.u\n",
    "        print(a2.text)\n",
    "        res2=requests.get(a1)\n",
    "        soup2=BeautifulSoup(res2.text)\n",
    "            #         print(soup2)\n",
    "        a3=soup2.find_all(\"img\",alt=\"\")[2][\"src\"]\n",
    "        print(a3)\n",
    "    except:\n",
    "        None\n",
    "\n",
    "\n",
    "       \n"
   ]
  }
 ],
 "metadata": {
  "kernelspec": {
   "display_name": "Python 3 (ipykernel)",
   "language": "python",
   "name": "python3"
  },
  "language_info": {
   "codemirror_mode": {
    "name": "ipython",
    "version": 3
   },
   "file_extension": ".py",
   "mimetype": "text/x-python",
   "name": "python",
   "nbconvert_exporter": "python",
   "pygments_lexer": "ipython3",
   "version": "3.9.13"
  }
 },
 "nbformat": 4,
 "nbformat_minor": 5
}
